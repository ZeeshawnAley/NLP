{
  "nbformat": 4,
  "nbformat_minor": 0,
  "metadata": {
    "colab": {
      "provenance": []
    },
    "kernelspec": {
      "name": "python3",
      "display_name": "Python 3"
    },
    "language_info": {
      "name": "python"
    }
  },
  "cells": [
    {
      "cell_type": "markdown",
      "source": [
        "# Zeeshan Ali (01-134212-197)\n",
        "## NLP Task 2"
      ],
      "metadata": {
        "id": "gyRsPByE1Xjv"
      }
    },
    {
      "cell_type": "code",
      "execution_count": null,
      "metadata": {
        "id": "CpKQYp87vsRG"
      },
      "outputs": [],
      "source": [
        "import re\n",
        "import pandas as pd\n",
        "from collections import Counter\n",
        "import numpy as np\n",
        "\n",
        "data = pd.read_csv('IMDBDataset.csv', encoding='utf-8')\n",
        "reviews = data['review'].tolist()\n",
        "labels = data['class'].tolist()\n",
        "\n",
        "def clean_tokenize(txt):\n",
        "    txt = re.sub(r'[^\\w\\s]', '', txt.lower())\n",
        "    return txt.split()\n",
        "\n",
        "p_reviews = [reviews[i] for i in range(len(reviews)) if labels[i] == 'positive']\n",
        "n_reviews = [reviews[i] for i in range(len(reviews)) if labels[i] == 'negative']\n",
        "\n",
        "word_count_p = Counter()\n",
        "word_count_n = Counter()\n",
        "\n",
        "total_p = 0\n",
        "total_n = 0\n",
        "\n",
        "for rev in p_reviews:\n",
        "    for word in clean_tokenize(rev):\n",
        "        word_count_p[word] += 1\n",
        "        total_p += 1\n",
        "\n",
        "for rev in n_reviews:\n",
        "    for word in clean_tokenize(rev):\n",
        "        word_count_n[word] += 1\n",
        "        total_n += 1\n",
        "\n",
        "prior_p = len(p_reviews) / len(reviews)\n",
        "prior_n = len(n_reviews) / len(reviews)\n",
        "\n",
        "while True:\n",
        "    new_review = input(\"Enter a review to classify: \")\n",
        "    words = clean_tokenize(new_review)\n",
        "\n",
        "    pos_prob = np.log(prior_p)\n",
        "    neg_prob = np.log(prior_n)\n",
        "\n",
        "    for word in words:\n",
        "        pos_prob += np.log((word_count_p[word] + 1) / (total_p + len(word_count_p)))\n",
        "        neg_prob += np.log((word_count_n[word] + 1) / (total_n + len(word_count_n)))\n",
        "\n",
        "    result = 'positive' if pos_prob > neg_prob else 'negative'\n",
        "    print(f\"The review is classified as: {result}\")\n",
        "\n",
        "    another_input = input(\"Do you want another input? (y/n): \")\n",
        "    if another_input.lower() != 'y':\n",
        "        break\n"
      ]
    }
  ]
}