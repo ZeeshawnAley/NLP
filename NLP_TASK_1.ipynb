{
  "nbformat": 4,
  "nbformat_minor": 0,
  "metadata": {
    "colab": {
      "provenance": []
    },
    "kernelspec": {
      "name": "python3",
      "display_name": "Python 3"
    },
    "language_info": {
      "name": "python"
    }
  },
  "cells": [
    {
      "cell_type": "markdown",
      "source": [
        "# Zeeshan Ali (01-134212-197)\n",
        "## NLP Task 1 (Tokenization)\n",
        "# +\n",
        "## NLP Task 2 (Word Frequency)"
      ],
      "metadata": {
        "id": "XYQiWZYpo8ZN"
      }
    },
    {
      "cell_type": "code",
      "execution_count": 11,
      "metadata": {
        "colab": {
          "base_uri": "https://localhost:8080/"
        },
        "id": "Wv75WLqgZ6Kg",
        "outputId": "a7329456-7d52-41db-84cc-f3670d13b38e"
      },
      "outputs": [
        {
          "output_type": "stream",
          "name": "stdout",
          "text": [
            "Word            Frequency \n",
            "-------------------------\n",
            "my              5         \n",
            "a               4         \n",
            "am              4         \n",
            "i               4         \n",
            "and             3         \n",
            "about           2         \n",
            "academic        2         \n",
            "have            2         \n",
            "in              2         \n",
            "of              2         \n",
            "the             2         \n",
            "to              2         \n",
            "36              1         \n",
            "7th             1         \n",
            "ali             1         \n",
            "at              1         \n",
            "bachelors       1         \n",
            "bahria          1         \n",
            "campus          1         \n",
            "career          1         \n",
            "cgpa            1         \n",
            "contribute      1         \n",
            "cumulative      1         \n",
            "currently       1         \n",
            "degree          1         \n",
            "for             1         \n",
            "future          1         \n",
            "gpa             1         \n",
            "hello           1         \n",
            "interest        1         \n",
            "is              1         \n",
            "islamabad       1         \n",
            "journey         1         \n",
            "keen            1         \n",
            "learn           1         \n",
            "learning        1         \n",
            "maintained      1         \n",
            "me              1         \n",
            "name            1         \n",
            "new             1         \n",
            "passionate      1         \n",
            "program         1         \n",
            "pursuing        1         \n",
            "record          1         \n",
            "semester        1         \n",
            "skills          1         \n",
            "strong          1         \n",
            "student         1         \n",
            "taking          1         \n",
            "technology      1         \n",
            "thank           1         \n",
            "that            1         \n",
            "throughout      1         \n",
            "time            1         \n",
            "university      1         \n",
            "will            1         \n",
            "with            1         \n",
            "you             1         \n",
            "zeeshan         1         \n"
          ]
        }
      ],
      "source": [
        "import pandas as pd\n",
        "\n",
        "myfile = 'input.txt'\n",
        "with open(myfile, 'r') as file:\n",
        "    text = file.read()\n",
        "\n",
        "text = text.lower()\n",
        "\n",
        "punctuation = '''!()-[]{};:'\"\\,<>./?@#$%^&*_~'''\n",
        "for char in text:\n",
        "    if char in punctuation:\n",
        "        text = text.replace(char, \"\")\n",
        "\n",
        "words = text.split()  # Tokenization (Task 1)\n",
        "\n",
        "df = pd.DataFrame(words, columns=['word']) # Create a DataFrame from the words list\n",
        "word_count = df['word'].value_counts()\n",
        "\n",
        "# Convert the word frequencies into a DataFrame for multi-level sorting\n",
        "words_df = pd.DataFrame({'word': word_count.index, 'frequency': word_count.values})\n",
        "sorted = words_df.sort_values(by=['frequency', 'word'], ascending=[False, True])\n",
        "\n",
        "print(f\"{'Word':<15} {'Frequency':<10}\")\n",
        "print(\"-\" * 25)\n",
        "\n",
        "for index, row in sorted.iterrows():\n",
        "    print(f\"{row['word']:<15} {row['frequency']:<10}\")\n"
      ]
    }
  ]
}